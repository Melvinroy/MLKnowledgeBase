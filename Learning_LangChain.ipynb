{
  "nbformat": 4,
  "nbformat_minor": 0,
  "metadata": {
    "colab": {
      "provenance": [],
      "include_colab_link": true
    },
    "kernelspec": {
      "name": "python3",
      "display_name": "Python 3"
    },
    "language_info": {
      "name": "python"
    }
  },
  "cells": [
    {
      "cell_type": "markdown",
      "metadata": {
        "id": "view-in-github",
        "colab_type": "text"
      },
      "source": [
        "<a href=\"https://colab.research.google.com/github/Melvinroy/MLKnowledgeBase/blob/main/Learning_LangChain.ipynb\" target=\"_parent\"><img src=\"https://colab.research.google.com/assets/colab-badge.svg\" alt=\"Open In Colab\"/></a>"
      ]
    },
    {
      "cell_type": "markdown",
      "source": [
        "LangChain and OpenAI Demo Notebook"
      ],
      "metadata": {
        "id": "pUEBq_TJjfHT"
      }
    },
    {
      "cell_type": "code",
      "execution_count": null,
      "metadata": {
        "id": "n_DzVo0ujdpe"
      },
      "outputs": [],
      "source": [
        "## Install the libraries\n",
        "!pip install langchain openai wikipedia gradio"
      ]
    },
    {
      "cell_type": "markdown",
      "source": [
        "Setting up OpenAI API Key: https://platform.openai.com/account/api-keys\n",
        "\n",
        "If you dont have the API Key, create one by add key. You need to add the key below"
      ],
      "metadata": {
        "id": "Z5OV9W_VkTxY"
      }
    },
    {
      "cell_type": "code",
      "source": [
        "## Set up Open API Key env variable, You need to enter the API key\n",
        "\n",
        "from getpass import getpass\n",
        "import os\n",
        "os.environ[\"OPENAI_API_KEY\"] = getpass()"
      ],
      "metadata": {
        "colab": {
          "base_uri": "https://localhost:8080/"
        },
        "id": "fHB5p4_Dj5P8",
        "outputId": "cbbc39c7-6e5b-426e-c70b-6665659319f7"
      },
      "execution_count": null,
      "outputs": [
        {
          "name": "stdout",
          "output_type": "stream",
          "text": [
            "··········\n"
          ]
        }
      ]
    },
    {
      "cell_type": "code",
      "source": [
        "## Most of the Open AI models are trained from 2021. LangChain helps to pull latest information. \n",
        "## We will take an example of using Wikipedia\n",
        "from langchain.agents import load_tools\n",
        "from langchain.agents import initialize_agent\n",
        "from langchain.agents import AgentType\n",
        "from langchain.llms import OpenAI\n",
        "\n",
        "\n",
        "def use_agent_tools(prompt):\n",
        "  llm = OpenAI()\n",
        "  tools = load_tools(['wikipedia'], llm)\n",
        "  agent = initialize_agent(tools, llm, agent=AgentType.ZERO_SHOT_REACT_DESCRIPTION, verbose=True)\n",
        "  result = agent.run(prompt)\n",
        "  return result\n",
        "\n"
      ],
      "metadata": {
        "id": "vtJ1HHwOm3hK"
      },
      "execution_count": null,
      "outputs": []
    },
    {
      "cell_type": "code",
      "source": [
        "## Lets create a UI on gardio\n",
        "import gradio as gr\n",
        "\n",
        "prompt = gr.inputs.Textbox(label=\"Enter your question for Wikipedia\")\n",
        "result = gr.outputs.Textbox(label=\"Response from GPT Model using Wikipedia\")\n",
        "\n",
        "iface = gr.Interface(\n",
        "    fn=use_agent_tools,\n",
        "    inputs= prompt,\n",
        "    outputs= result,\n",
        "    title=\"Live Wikipedia Search\",\n",
        "    description=\"Enter the prompt and get access to external site- Wikipedia to get updated information.\",\n",
        ")\n",
        "\n",
        "iface.launch(share = True)"
      ],
      "metadata": {
        "colab": {
          "base_uri": "https://localhost:8080/",
          "height": 754
        },
        "id": "21Vi2XGsqdDK",
        "outputId": "1734b470-cf22-44dc-efce-fe2efdc9b7f7"
      },
      "execution_count": null,
      "outputs": [
        {
          "output_type": "stream",
          "name": "stderr",
          "text": [
            "/usr/local/lib/python3.9/dist-packages/gradio/inputs.py:27: UserWarning: Usage of gradio.inputs is deprecated, and will not be supported in the future, please import your component from gradio.components\n",
            "  warnings.warn(\n",
            "/usr/local/lib/python3.9/dist-packages/gradio/deprecation.py:40: UserWarning: `optional` parameter is deprecated, and it has no effect\n",
            "  warnings.warn(value)\n",
            "/usr/local/lib/python3.9/dist-packages/gradio/deprecation.py:40: UserWarning: `numeric` parameter is deprecated, and it has no effect\n",
            "  warnings.warn(value)\n",
            "/usr/local/lib/python3.9/dist-packages/gradio/outputs.py:22: UserWarning: Usage of gradio.outputs is deprecated, and will not be supported in the future, please import your components from gradio.components\n",
            "  warnings.warn(\n"
          ]
        },
        {
          "output_type": "stream",
          "name": "stdout",
          "text": [
            "Colab notebook detected. To show errors in colab notebook, set debug=True in launch()\n",
            "Running on public URL: https://0f8c4155ab657ad9ca.gradio.live\n",
            "\n",
            "This share link expires in 72 hours. For free permanent hosting and GPU upgrades (NEW!), check out Spaces: https://huggingface.co/spaces\n"
          ]
        },
        {
          "output_type": "display_data",
          "data": {
            "text/plain": [
              "<IPython.core.display.HTML object>"
            ],
            "text/html": [
              "<div><iframe src=\"https://0f8c4155ab657ad9ca.gradio.live\" width=\"100%\" height=\"500\" allow=\"autoplay; camera; microphone; clipboard-read; clipboard-write;\" frameborder=\"0\" allowfullscreen></iframe></div>"
            ]
          },
          "metadata": {}
        },
        {
          "output_type": "execute_result",
          "data": {
            "text/plain": []
          },
          "metadata": {},
          "execution_count": 31
        }
      ]
    },
    {
      "cell_type": "code",
      "source": [],
      "metadata": {
        "id": "QYM9D58gsCMd"
      },
      "execution_count": null,
      "outputs": []
    }
  ]
}